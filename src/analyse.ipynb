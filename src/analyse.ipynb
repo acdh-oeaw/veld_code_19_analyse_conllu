{
 "cells": [
  {
   "cell_type": "code",
   "execution_count": null,
   "id": "c51fed8a-8fc9-47c7-a77b-79a209da73dc",
   "metadata": {},
   "outputs": [],
   "source": [
    "import json\n",
    "import csv\n",
    "import os\n",
    "import sys\n",
    "\n",
    "\n",
    "# some tsv were too big, so increase max memory allocation of csv module\n",
    "csv.field_size_limit(sys.maxsize)"
   ]
  },
  {
   "cell_type": "code",
   "execution_count": null,
   "id": "71587e65-e4a9-496d-971b-26f8c9ad52f9",
   "metadata": {},
   "outputs": [],
   "source": [
    "def process_conllu_data(conllu_file_path):\n",
    "  \"\"\"main function for conllu processing, takes repo_id and stem and returns conllu statistics\"\"\"\n",
    "\n",
    "  # returned dictionary, defined here for communication of its structure\n",
    "  result_dict = {\n",
    "      \"token_count\": None,\n",
    "  }\n",
    "    \n",
    "  # statistics of interest\n",
    "  token_count = 0\n",
    "\n",
    "  # main loop over rows, create statistics\n",
    "  with open(conllu_file_path, \"r\") as f:\n",
    "      for row in csv.reader(f, delimiter=\"\\t\"):\n",
    "          if len(row) != 0 and not row[0].startswith(\"#\"):\n",
    "              token_count += 1\n",
    "\n",
    "  # load statistics into dict, return\n",
    "  result_dict[\"token_count\"] = token_count\n",
    "  return result_dict"
   ]
  },
  {
   "cell_type": "code",
   "execution_count": null,
   "id": "7843b71c-38e6-49e4-8f49-5bea72d0334f",
   "metadata": {},
   "outputs": [],
   "source": [
    "input_root_folder = \"/veld/input/data/\"\n",
    "\n",
    "# main loop over all eltec corpora\n",
    "for sub_folder in os.listdir(input_root_folder):\n",
    "\n",
    "    # create data on corpus\n",
    "    eltec_corpus_id = sub_folder\n",
    "    input_conllu_sub_folder = input_root_folder + sub_folder + \"/level1\"\n",
    "    print(f\"processing eltec folder: {input_conllu_sub_folder}\")\n",
    "    output_conllu_json = []\n",
    "\n",
    "    # loop over files of corpus\n",
    "    for sub_file in sorted(os.listdir(input_conllu_sub_folder)):\n",
    "\n",
    "        # create data on file\n",
    "        eltec_resource_id = sub_file.replace(\".conllu\", \"\")\n",
    "        input_conllu_file = input_conllu_sub_folder + \"/\" + sub_file\n",
    "\n",
    "        # create stats\n",
    "        #print(f\"processing eltec conllu file : {input_conllu_file}\")\n",
    "        conllu_stats = process_conllu_data(input_conllu_file)\n",
    "        #print(conllu_stats)\n",
    "\n",
    "        # append results to json data carrier\n",
    "        output_conllu_json.append({\n",
    "            \"resource_uri\": f\"https://raw.githubusercontent.com/COST-ELTeC/{eltec_corpus_id}/master/level1/{eltec_resource_id}.xml\",\n",
    "            \"conllu_stats\": conllu_stats,\n",
    "        })\n",
    "\n",
    "    # write data of corpus into json file\n",
    "    output_json_file = f\"/veld/output/data/{eltec_corpus_id}.json\"\n",
    "    print(f\"writing results to {output_json_file}\")\n",
    "    with open(output_json_file, \"w\") as f:\n",
    "        json.dump(output_conllu_json, f, indent=4)"
   ]
  }
 ],
 "metadata": {
  "kernelspec": {
   "display_name": "Python 3 (ipykernel)",
   "language": "python",
   "name": "python3"
  },
  "language_info": {
   "codemirror_mode": {
    "name": "ipython",
    "version": 3
   },
   "file_extension": ".py",
   "mimetype": "text/x-python",
   "name": "python",
   "nbconvert_exporter": "python",
   "pygments_lexer": "ipython3",
   "version": "3.10.12"
  }
 },
 "nbformat": 4,
 "nbformat_minor": 5
}
